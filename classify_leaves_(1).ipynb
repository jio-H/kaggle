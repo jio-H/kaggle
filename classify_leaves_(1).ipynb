{
  "metadata": {
    "kernelspec": {
      "language": "python",
      "display_name": "Python 3",
      "name": "python3"
    },
    "language_info": {
      "name": "python",
      "version": "3.10.12",
      "mimetype": "text/x-python",
      "codemirror_mode": {
        "name": "ipython",
        "version": 3
      },
      "pygments_lexer": "ipython3",
      "nbconvert_exporter": "python",
      "file_extension": ".py"
    },
    "colab": {
      "provenance": [],
      "include_colab_link": true
    }
  },
  "nbformat_minor": 0,
  "nbformat": 4,
  "cells": [
    {
      "cell_type": "markdown",
      "metadata": {
        "id": "view-in-github",
        "colab_type": "text"
      },
      "source": [
        "<a href=\"https://colab.research.google.com/github/jio-H/kaggle/blob/main/classify_leaves_(1).ipynb\" target=\"_parent\"><img src=\"https://colab.research.google.com/assets/colab-badge.svg\" alt=\"Open In Colab\"/></a>"
      ]
    },
    {
      "cell_type": "code",
      "source": [
        "!pip install kaggle"
      ],
      "metadata": {
        "colab": {
          "base_uri": "https://localhost:8080/"
        },
        "id": "bQ8RmgcY6Xt2",
        "outputId": "033bafd1-5f4e-4fe4-919f-cb9757a2a76a"
      },
      "execution_count": 2,
      "outputs": [
        {
          "output_type": "stream",
          "name": "stdout",
          "text": [
            "Requirement already satisfied: kaggle in /usr/local/lib/python3.10/dist-packages (1.5.16)\n",
            "Requirement already satisfied: six>=1.10 in /usr/local/lib/python3.10/dist-packages (from kaggle) (1.16.0)\n",
            "Requirement already satisfied: certifi in /usr/local/lib/python3.10/dist-packages (from kaggle) (2023.7.22)\n",
            "Requirement already satisfied: python-dateutil in /usr/local/lib/python3.10/dist-packages (from kaggle) (2.8.2)\n",
            "Requirement already satisfied: requests in /usr/local/lib/python3.10/dist-packages (from kaggle) (2.31.0)\n",
            "Requirement already satisfied: tqdm in /usr/local/lib/python3.10/dist-packages (from kaggle) (4.66.1)\n",
            "Requirement already satisfied: python-slugify in /usr/local/lib/python3.10/dist-packages (from kaggle) (8.0.1)\n",
            "Requirement already satisfied: urllib3 in /usr/local/lib/python3.10/dist-packages (from kaggle) (2.0.4)\n",
            "Requirement already satisfied: bleach in /usr/local/lib/python3.10/dist-packages (from kaggle) (6.0.0)\n",
            "Requirement already satisfied: webencodings in /usr/local/lib/python3.10/dist-packages (from bleach->kaggle) (0.5.1)\n",
            "Requirement already satisfied: text-unidecode>=1.3 in /usr/local/lib/python3.10/dist-packages (from python-slugify->kaggle) (1.3)\n",
            "Requirement already satisfied: charset-normalizer<4,>=2 in /usr/local/lib/python3.10/dist-packages (from requests->kaggle) (3.2.0)\n",
            "Requirement already satisfied: idna<4,>=2.5 in /usr/local/lib/python3.10/dist-packages (from requests->kaggle) (3.4)\n",
            "^C\n"
          ]
        }
      ]
    },
    {
      "cell_type": "code",
      "source": [
        "from google.colab import files\n",
        "files.upload()"
      ],
      "metadata": {
        "id": "m3BJcEuv6fX8"
      },
      "execution_count": null,
      "outputs": []
    },
    {
      "cell_type": "code",
      "source": [
        "!mkdir -p ~/.kaggle\n",
        "\n",
        "!cp kaggle.json ~/.kaggle/\n",
        "\n",
        "!chmod 600 ~/.kaggle/kaggle.json"
      ],
      "metadata": {
        "id": "1ACZZWeG6rMj"
      },
      "execution_count": null,
      "outputs": []
    },
    {
      "cell_type": "code",
      "source": [
        "!kaggle competitions download -c classify-leaves\n",
        "!unzip classify-leaves.zip"
      ],
      "metadata": {
        "id": "OBQvFDJG7Tv2"
      },
      "execution_count": null,
      "outputs": []
    },
    {
      "cell_type": "code",
      "source": [
        "!rm -r images\n",
        "!rm -f sample_submission.csv\n",
        "!rm -f test.csv\n",
        "!rm -f train.csv"
      ],
      "metadata": {
        "id": "jwUywpiT84n5"
      },
      "execution_count": null,
      "outputs": []
    },
    {
      "cell_type": "code",
      "source": [
        "# This Python 3 environment comes with many helpful analytics libraries installed\n",
        "# It is defined by the kaggle/python Docker image: https://github.com/kaggle/docker-python\n",
        "# For example, here's several helpful packages to load\n",
        "\n",
        "import numpy as np # linear algebra\n",
        "import pandas as pd # data processing, CSV file I/O (e.g. pd.read_csv)\n",
        "\n",
        "# Input data files are available in the read-only \"../input/\" directory\n",
        "# For example, running this (by clicking run or pressing Shift+Enter) will list all files under the input directory\n",
        "\n",
        "import os\n",
        "for dirname, _, filenames in os.walk('/kaggle/input'):\n",
        "    for filename in filenames:\n",
        "        print(os.path.join(dirname, filename))\n",
        "\n",
        "# You can write up to 20GB to the current directory (/kaggle/working/) that gets preserved as output when you create a version using \"Save & Run All\"\n",
        "# You can also write temporary files to /kaggle/temp/, but they won't be saved outside of the current session"
      ],
      "metadata": {
        "_uuid": "8f2839f25d086af736a60e9eeb907d3b93b6e0e5",
        "_cell_guid": "b1076dfc-b9ad-4769-8c92-a6c4dae69d19",
        "execution": {
          "iopub.status.busy": "2023-09-24T10:50:29.054141Z",
          "iopub.execute_input": "2023-09-24T10:50:29.054557Z",
          "iopub.status.idle": "2023-09-24T10:50:50.931375Z",
          "shell.execute_reply.started": "2023-09-24T10:50:29.054521Z",
          "shell.execute_reply": "2023-09-24T10:50:50.930392Z"
        },
        "collapsed": true,
        "jupyter": {
          "outputs_hidden": true
        },
        "trusted": true,
        "id": "YMxM3-XN3LQZ"
      },
      "execution_count": null,
      "outputs": []
    },
    {
      "cell_type": "code",
      "source": [
        "!pip install d2l"
      ],
      "metadata": {
        "execution": {
          "iopub.status.busy": "2023-09-24T10:50:50.932964Z",
          "iopub.execute_input": "2023-09-24T10:50:50.933446Z",
          "iopub.status.idle": "2023-09-24T10:51:25.705285Z",
          "shell.execute_reply.started": "2023-09-24T10:50:50.933392Z",
          "shell.execute_reply": "2023-09-24T10:51:25.704226Z"
        },
        "collapsed": true,
        "jupyter": {
          "outputs_hidden": true
        },
        "trusted": true,
        "id": "0pkTEhle3LQe"
      },
      "execution_count": null,
      "outputs": []
    },
    {
      "cell_type": "code",
      "source": [
        "import torch\n",
        "import torch.nn as nn\n",
        "import d2l\n",
        "import torchvision\n",
        "import torch.nn.functional as F\n",
        "import numpy as np\n",
        "import pandas as pd"
      ],
      "metadata": {
        "execution": {
          "iopub.status.busy": "2023-09-24T10:51:25.708529Z",
          "iopub.execute_input": "2023-09-24T10:51:25.709065Z",
          "iopub.status.idle": "2023-09-24T10:51:29.203677Z",
          "shell.execute_reply.started": "2023-09-24T10:51:25.709018Z",
          "shell.execute_reply": "2023-09-24T10:51:29.202717Z"
        },
        "trusted": true,
        "id": "XX6nuU5I3LQg"
      },
      "execution_count": 5,
      "outputs": []
    },
    {
      "cell_type": "code",
      "source": [
        "# 图像增广\n",
        "transform_train = torchvision.transforms.Compose([\n",
        "\ttorchvision.transforms.Resize(250),\n",
        "\ttorchvision.transforms.RandomResizedCrop(224, scale=(0.6, 1.0), ratio=(1.0, 1.0)),\n",
        "\ttorchvision.transforms.RandomHorizontalFlip(),\n",
        "\ttorchvision.transforms.ToTensor(),\n",
        "\ttorchvision.transforms.Normalize([0.4914, 0.4822, 0.4465],\n",
        "                                     [0.2023, 0.1994, 0.2010])])\n",
        "# 只对图像进行标准化，消除评估结果中的随机性\n",
        "transform_test = torchvision.transforms.Compose([\n",
        "\ttorchvision.transforms.ToTensor(),\n",
        "\ttorchvision.transforms.Normalize([0.4914, 0.4822, 0.4465],\n",
        "                                     [0.2023, 0.1994, 0.2010])])"
      ],
      "metadata": {
        "execution": {
          "iopub.status.busy": "2023-09-24T10:51:29.214288Z",
          "iopub.execute_input": "2023-09-24T10:51:29.214878Z",
          "iopub.status.idle": "2023-09-24T10:51:29.228017Z",
          "shell.execute_reply.started": "2023-09-24T10:51:29.214844Z",
          "shell.execute_reply": "2023-09-24T10:51:29.226747Z"
        },
        "trusted": true,
        "id": "-7vAOpXo3LQi"
      },
      "execution_count": 7,
      "outputs": []
    },
    {
      "cell_type": "code",
      "source": [
        "# 定义Dataset\n",
        "import pandas as pd\n",
        "import os\n",
        "from PIL import Image\n",
        "from torch.utils.data import Dataset, DataLoader\n",
        "\n",
        "from sklearn.model_selection import train_test_split\n",
        "from sklearn.preprocessing import LabelEncoder\n",
        "import torchvision.transforms as transforms\n",
        "\n",
        "class CustomDataset(Dataset):\n",
        "    def __init__(self, csv_file, root_dir, transform=None):\n",
        "        self.data = pd.read_csv(csv_file)\n",
        "        self.root_dir = root_dir\n",
        "        self.transform = transform\n",
        "        label_encoder = LabelEncoder()\n",
        "        self.labels = label_encoder.fit_transform(self.data['label'])\n",
        "\n",
        "    def __len__(self):\n",
        "        return len(self.data)\n",
        "\n",
        "    def __getitem__(self, idx):\n",
        "        img_name = os.path.join(self.root_dir, self.data.iloc[idx, 0])\n",
        "        image = Image.open(img_name)\n",
        "        if self.transform is not None:\n",
        "            image = self.transform(image)\n",
        "\n",
        "        label = F.one_hot(torch.tensor(self.labels[idx]), num_classes=self.data['label'].nunique()).float()\n",
        "        return image, label"
      ],
      "metadata": {
        "execution": {
          "iopub.status.busy": "2023-09-24T10:52:26.667438Z",
          "iopub.execute_input": "2023-09-24T10:52:26.667921Z",
          "iopub.status.idle": "2023-09-24T10:52:26.680089Z",
          "shell.execute_reply.started": "2023-09-24T10:52:26.667883Z",
          "shell.execute_reply": "2023-09-24T10:52:26.678815Z"
        },
        "trusted": true,
        "id": "8rE8zmhW3LQk"
      },
      "execution_count": 8,
      "outputs": []
    },
    {
      "cell_type": "code",
      "source": [
        "# d2l.argmax, d2l.astype, d2l.reduce_sum, d2l.accracy\n",
        "\n",
        "argmax = lambda x, *args, **kwargs: x.argmax(*args, **kwargs)\n",
        "astype = lambda x, *args, **kwargs: x.type(*args, **kwargs)\n",
        "reduce_sum = lambda x, *args, **kwargs: x.sum(*args, **kwargs)\n",
        "\n",
        "def accuracy(y_hat, y):\n",
        "    \"\"\"\n",
        "    计算判断正确的数量\n",
        "    \"\"\"\n",
        "    if len(y_hat.shape) > 1 and y_hat.shape[1] > 1:\n",
        "        y_hat = argmax(y_hat, axis=1)\n",
        "    cmp = astype(y_hat, y.dtype) == y\n",
        "    return float(reduce_sum(astype(cmp, y.dtype)))\n",
        ""
      ],
      "metadata": {
        "execution": {
          "iopub.status.busy": "2023-09-24T10:51:29.938049Z",
          "iopub.execute_input": "2023-09-24T10:51:29.938405Z",
          "iopub.status.idle": "2023-09-24T10:51:29.949572Z",
          "shell.execute_reply.started": "2023-09-24T10:51:29.938369Z",
          "shell.execute_reply": "2023-09-24T10:51:29.948618Z"
        },
        "trusted": true,
        "id": "_KvOald_3LQl"
      },
      "execution_count": 9,
      "outputs": []
    },
    {
      "cell_type": "code",
      "source": [
        "# d2l.Accumulator\n",
        "class Accumulator:\n",
        "    \"\"\"\n",
        "    长为n的list，每次add对应位置上相加\n",
        "    \"\"\"\n",
        "    def __init__(self, n):\n",
        "        self.data = [0.0] * n\n",
        "\n",
        "    def add(self, *args):\n",
        "        self.data = [a + float(b) for a, b in zip(self.data, args)]\n",
        "\n",
        "    def reset(self):\n",
        "        self.data = [0, 0] * len(self.data)\n",
        "\n",
        "    def __getitem__(self, idx):\n",
        "        return self.data[idx]\n",
        "\n",
        "def try_gpu(i=0):\n",
        "    if torch.cuda.device_count() >= i+1:\n",
        "        return torch.device(f'cuda:{i}')\n",
        "    return torch.device('cpu')"
      ],
      "metadata": {
        "execution": {
          "iopub.status.busy": "2023-09-24T10:51:29.951365Z",
          "iopub.execute_input": "2023-09-24T10:51:29.951871Z",
          "iopub.status.idle": "2023-09-24T10:51:29.962187Z",
          "shell.execute_reply.started": "2023-09-24T10:51:29.951837Z",
          "shell.execute_reply": "2023-09-24T10:51:29.961001Z"
        },
        "trusted": true,
        "id": "2BHpXpwN3LQm"
      },
      "execution_count": 10,
      "outputs": []
    },
    {
      "cell_type": "code",
      "source": [
        "# 定义参数和超参数训练\n",
        "batch_size = 1\n",
        "lr, num_epochs = 1, 10"
      ],
      "metadata": {
        "execution": {
          "iopub.status.busy": "2023-09-24T10:51:29.963689Z",
          "iopub.execute_input": "2023-09-24T10:51:29.964275Z",
          "iopub.status.idle": "2023-09-24T10:51:29.977925Z",
          "shell.execute_reply.started": "2023-09-24T10:51:29.964240Z",
          "shell.execute_reply": "2023-09-24T10:51:29.977039Z"
        },
        "trusted": true,
        "id": "aR5vQRvq3LQn"
      },
      "execution_count": 11,
      "outputs": []
    },
    {
      "cell_type": "code",
      "source": [
        "# 加载数据\n",
        "sample = '/content/sample_submission.csv'\n",
        "ts_path = \"/content/test.csv\"\n",
        "tr_path = \"/content/train.csv\"\n",
        "image_path = '/content'\n",
        "\n",
        "dataset = CustomDataset(csv_file = sample, root_dir = image_path, transform=transform_train)\n",
        "train_size = int(0.8 * len(dataset))\n",
        "valid_size = len(dataset) - train_size\n",
        "tr_dataset, te_dataset = torch.utils.data.random_split(dataset, [train_size, valid_size])\n",
        "\n",
        "tr_dataloader = DataLoader(tr_dataset, batch_size, shuffle=True)\n",
        "ts_dataloader = DataLoader(te_dataset, batch_size, shuffle=False)\n"
      ],
      "metadata": {
        "execution": {
          "iopub.status.busy": "2023-09-24T10:56:49.519978Z",
          "iopub.execute_input": "2023-09-24T10:56:49.520376Z",
          "iopub.status.idle": "2023-09-24T10:56:49.953247Z",
          "shell.execute_reply.started": "2023-09-24T10:56:49.520344Z",
          "shell.execute_reply": "2023-09-24T10:56:49.951917Z"
        },
        "trusted": true,
        "id": "h3Aajfr43LQo"
      },
      "execution_count": 12,
      "outputs": []
    },
    {
      "cell_type": "code",
      "source": [
        "# 定义神经网络结构\n",
        "net = nn.Sequential(\n",
        "        nn.Conv2d(3, 6, kernel_size=5, padding=2), nn.Sigmoid(),\n",
        "        nn.AvgPool2d(kernel_size=2, stride=2),\n",
        "        nn.Conv2d(6, 16, kernel_size=5), nn.Sigmoid(),\n",
        "        nn.AvgPool2d(kernel_size=2, stride=2),\n",
        "        nn.Flatten(),\n",
        "        nn.Linear(16 * 54 * 54, 120), nn.Sigmoid(),\n",
        "        nn.Linear(120, 84), nn.Sigmoid(),\n",
        "        nn.Linear(84, 176)\n",
        "      )"
      ],
      "metadata": {
        "trusted": true,
        "id": "Zb-6Fn0s3LQp"
      },
      "execution_count": 13,
      "outputs": []
    },
    {
      "cell_type": "code",
      "source": [
        "X = torch.rand(size=(1, 3, 224, 224), dtype=torch.float32)\n",
        "for layer in net:\n",
        "    X = layer(X)\n",
        "    print(layer.__class__.__name__, \"output shape: \\t\", X.shape)\n",
        ""
      ],
      "metadata": {
        "trusted": true,
        "colab": {
          "base_uri": "https://localhost:8080/"
        },
        "id": "rDOzHDAn3LQp",
        "outputId": "b1892bed-916d-47bd-f05f-b54b268f81ab"
      },
      "execution_count": 14,
      "outputs": [
        {
          "output_type": "stream",
          "name": "stdout",
          "text": [
            "Conv2d output shape: \t torch.Size([1, 6, 224, 224])\n",
            "Sigmoid output shape: \t torch.Size([1, 6, 224, 224])\n",
            "AvgPool2d output shape: \t torch.Size([1, 6, 112, 112])\n",
            "Conv2d output shape: \t torch.Size([1, 16, 108, 108])\n",
            "Sigmoid output shape: \t torch.Size([1, 16, 108, 108])\n",
            "AvgPool2d output shape: \t torch.Size([1, 16, 54, 54])\n",
            "Flatten output shape: \t torch.Size([1, 46656])\n",
            "Linear output shape: \t torch.Size([1, 120])\n",
            "Sigmoid output shape: \t torch.Size([1, 120])\n",
            "Linear output shape: \t torch.Size([1, 84])\n",
            "Sigmoid output shape: \t torch.Size([1, 84])\n",
            "Linear output shape: \t torch.Size([1, 176])\n"
          ]
        }
      ]
    },
    {
      "cell_type": "code",
      "source": [
        "# 定义评测指标(分类问题的精度)\n",
        "def evaluate_accuracy_gpu(net, data_iter, device=None):\n",
        "    if isinstance(net, nn.Module):\n",
        "        net.eval()\n",
        "        if not device:\n",
        "            divice = next(iter(net.parameters())).device\n",
        "    metric = Accumulator(2)\n",
        "\n",
        "    with torch.no_grad():\n",
        "        for X, y in data_iter:\n",
        "            if isinstance(X, list):\n",
        "                X = [x.to(device) for x in X]\n",
        "            else:\n",
        "                X = X.to(device)\n",
        "            y = y.to(device)\n",
        "            metric.add(accuracy(net(X), y), y.numel())\n",
        "    return metric[0] / metric[1]\n",
        "\n",
        "# 训练代码\n",
        "def train_ch6(net, train_iter, test_iter, num_epochs, lr, device):\n",
        "    def init_weights(m):\n",
        "        if type(m) == nn.Linear or type(m) == nn.Conv2d:\n",
        "            nn.init.xavier_uniform_(m.weight)\n",
        "    # 应用上述方法初始化net的参数（不同的层有默认的初始化方法）\n",
        "    net.apply(init_weights)\n",
        "\n",
        "    print(\"training on \", device)\n",
        "    net.to(device)\n",
        "    # 优化器选择\n",
        "    optimizer = torch.optim.SGD(net.parameters(), lr=lr)\n",
        "    # 损失函数\n",
        "    loss = nn.CrossEntropyLoss(reduction=\"none\")\n",
        "    for epoch in range(num_epochs):\n",
        "        metric = Accumulator(3)\n",
        "        net.train()\n",
        "\n",
        "        for X, y in train_iter:\n",
        "            optimizer.zero_grad()\n",
        "            X, y = X.to(device), y.to(device)\n",
        "            y_hat = net(X)\n",
        "            l = loss(y_hat, y)\n",
        "            l.backward()\n",
        "            optimizer.step()\n",
        "            with torch.no_grad():\n",
        "                metric.add(l * X.shape[0], accuracy(y_hat, y), X.shape[0])\n",
        "            train_l = metric[0] / metric[2]\n",
        "            train_acc = metric[1] / metric[2]\n",
        "\n",
        "        test_acc = evaluate_accuracy_gpu(net, test_iter)\n",
        "\n",
        "    print(f'loss {train_l:.3f}, train acc {train_acc:.3f}, '\n",
        "          f'test acc {test_acc:.3f}')\n",
        "    print(f'{metric[2] * num_epochs / timer.sum():.1f} examples/sec '\n",
        "          f'on {str(device)}')\n",
        "\n",
        "# 训练模型\n",
        "train_ch6(net, tr_dataloader, ts_dataloader, num_epochs, lr, try_gpu())\n",
        "\n"
      ],
      "metadata": {
        "trusted": true,
        "colab": {
          "base_uri": "https://localhost:8080/"
        },
        "id": "vy1weqVp3LQq",
        "outputId": "ca76f2f4-9461-4753-8dd9-7b97a78f646d"
      },
      "execution_count": null,
      "outputs": [
        {
          "output_type": "stream",
          "name": "stdout",
          "text": [
            "training on  cpu\n"
          ]
        }
      ]
    },
    {
      "cell_type": "code",
      "source": [
        "# 预测输出\n"
      ],
      "metadata": {
        "execution": {
          "iopub.status.busy": "2023-09-24T10:51:30.996436Z",
          "iopub.status.idle": "2023-09-24T10:51:30.996917Z",
          "shell.execute_reply.started": "2023-09-24T10:51:30.996664Z",
          "shell.execute_reply": "2023-09-24T10:51:30.996686Z"
        },
        "trusted": true,
        "id": "64laIvP73LQq"
      },
      "execution_count": null,
      "outputs": []
    },
    {
      "cell_type": "code",
      "source": [],
      "metadata": {
        "id": "-VQ5_qQ18Tj9"
      },
      "execution_count": null,
      "outputs": []
    }
  ]
}